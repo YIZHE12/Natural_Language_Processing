{
 "cells": [
  {
   "cell_type": "code",
   "execution_count": 1,
   "metadata": {},
   "outputs": [],
   "source": [
    "from sentiment_anaylsis_twitter_data import *"
   ]
  },
  {
   "cell_type": "code",
   "execution_count": 2,
   "metadata": {},
   "outputs": [
    {
     "name": "stdout",
     "output_type": "stream",
     "text": [
      "                                              tweets                   id  \\\n",
      "0  Today in Alaska, it was my great honor to visi...  1101340141501714432   \n",
      "1                            https://t.co/ywNk8EhOh0  1101331345542918145   \n",
      "2                            https://t.co/hUK9dSBM3M  1101331221655760897   \n",
      "3  I will be interviewed by @seanhannity at 9:00 ...  1101289772528603137   \n",
      "4  Everyone MUST watch the opening to @TuckerCarl...  1101289057060077569   \n",
      "\n",
      "   len                date              source  likes  retweets sentiment  \n",
      "0  140 2019-03-01 04:35:26  Twitter for iPhone  43349      9109  positive  \n",
      "1   23 2019-03-01 04:00:29  Twitter for iPhone  26559      6041   neutral  \n",
      "2   23 2019-03-01 03:59:59  Twitter for iPhone  27242      6327   neutral  \n",
      "3   70 2019-03-01 01:15:17  Twitter for iPhone  44111      8782  positive  \n",
      "4   71 2019-03-01 01:12:26  Twitter for iPhone  53612     10641  positive  \n"
     ]
    }
   ],
   "source": [
    "twitter_client = TwitterClient()\n",
    "tweet_analyzer = TweetAnalyzer()\n",
    "\n",
    "api = twitter_client.get_twitter_client_api()\n",
    "\n",
    "tweets = api.user_timeline(screen_name=\"realDonaldTrump\", count=50)\n",
    "\n",
    "df = tweet_analyzer.tweets_to_data_frame(tweets)\n",
    "df['sentiment'] = np.array([tweet_analyzer.analyze_sentiment(tweet) for tweet in df['tweets']])\n",
    "\n",
    "print(df.head(5))\n"
   ]
  },
  {
   "cell_type": "code",
   "execution_count": 3,
   "metadata": {},
   "outputs": [
    {
     "data": {
      "text/html": [
       "<div>\n",
       "<style scoped>\n",
       "    .dataframe tbody tr th:only-of-type {\n",
       "        vertical-align: middle;\n",
       "    }\n",
       "\n",
       "    .dataframe tbody tr th {\n",
       "        vertical-align: top;\n",
       "    }\n",
       "\n",
       "    .dataframe thead th {\n",
       "        text-align: right;\n",
       "    }\n",
       "</style>\n",
       "<table border=\"1\" class=\"dataframe\">\n",
       "  <thead>\n",
       "    <tr style=\"text-align: right;\">\n",
       "      <th></th>\n",
       "      <th>tweets</th>\n",
       "      <th>id</th>\n",
       "      <th>len</th>\n",
       "      <th>date</th>\n",
       "      <th>source</th>\n",
       "      <th>likes</th>\n",
       "      <th>retweets</th>\n",
       "    </tr>\n",
       "    <tr>\n",
       "      <th>sentiment</th>\n",
       "      <th></th>\n",
       "      <th></th>\n",
       "      <th></th>\n",
       "      <th></th>\n",
       "      <th></th>\n",
       "      <th></th>\n",
       "      <th></th>\n",
       "    </tr>\n",
       "  </thead>\n",
       "  <tbody>\n",
       "    <tr>\n",
       "      <th>negative</th>\n",
       "      <td>10</td>\n",
       "      <td>10</td>\n",
       "      <td>10</td>\n",
       "      <td>10</td>\n",
       "      <td>10</td>\n",
       "      <td>10</td>\n",
       "      <td>10</td>\n",
       "    </tr>\n",
       "    <tr>\n",
       "      <th>neutral</th>\n",
       "      <td>15</td>\n",
       "      <td>15</td>\n",
       "      <td>15</td>\n",
       "      <td>15</td>\n",
       "      <td>15</td>\n",
       "      <td>15</td>\n",
       "      <td>15</td>\n",
       "    </tr>\n",
       "    <tr>\n",
       "      <th>positive</th>\n",
       "      <td>25</td>\n",
       "      <td>25</td>\n",
       "      <td>25</td>\n",
       "      <td>25</td>\n",
       "      <td>25</td>\n",
       "      <td>25</td>\n",
       "      <td>25</td>\n",
       "    </tr>\n",
       "  </tbody>\n",
       "</table>\n",
       "</div>"
      ],
      "text/plain": [
       "           tweets  id  len  date  source  likes  retweets\n",
       "sentiment                                                \n",
       "negative       10  10   10    10      10     10        10\n",
       "neutral        15  15   15    15      15     15        15\n",
       "positive       25  25   25    25      25     25        25"
      ]
     },
     "execution_count": 3,
     "metadata": {},
     "output_type": "execute_result"
    }
   ],
   "source": [
    "sen_tweets =df.groupby('sentiment').count()\n",
    "sen_tweets"
   ]
  },
  {
   "cell_type": "code",
   "execution_count": 26,
   "metadata": {},
   "outputs": [
    {
     "name": "stdout",
     "output_type": "stream",
     "text": [
      "percentage of neutral tweets: 30.0 %\n",
      "percentage of positive tweets: 50.0 %\n",
      "percentage of negative tweets: 20.0 %\n"
     ]
    }
   ],
   "source": [
    "n_neu = sen_tweets.loc['neutral']['tweets'].item()\n",
    "n_pos = sen_tweets.loc['positive']['tweets'].item()\n",
    "n_neg = sen_tweets.loc['negative']['tweets'].item()\n",
    "total_t = sen_tweets.sum().tweets\n",
    "\n",
    "print ('percentage of neutral tweets: {} %'.format (100*n_neu/total_t))\n",
    "print ('percentage of positive tweets: {} %'.format (100*n_pos/total_t))\n",
    "print ('percentage of negative tweets: {} %'.format (100*n_neg/total_t))"
   ]
  }
 ],
 "metadata": {
  "kernelspec": {
   "display_name": "Python 3",
   "language": "python",
   "name": "python3"
  },
  "language_info": {
   "codemirror_mode": {
    "name": "ipython",
    "version": 3
   },
   "file_extension": ".py",
   "mimetype": "text/x-python",
   "name": "python",
   "nbconvert_exporter": "python",
   "pygments_lexer": "ipython3",
   "version": "3.6.4"
  }
 },
 "nbformat": 4,
 "nbformat_minor": 2
}
